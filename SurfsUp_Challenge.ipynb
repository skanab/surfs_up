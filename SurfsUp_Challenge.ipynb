{
 "cells": [
  {
   "cell_type": "code",
   "execution_count": 1,
   "metadata": {},
   "outputs": [
    {
     "data": {
      "text/html": [
       "<style>.container { width:100% !important; }</style>"
      ],
      "text/plain": [
       "<IPython.core.display.HTML object>"
      ]
     },
     "metadata": {},
     "output_type": "display_data"
    }
   ],
   "source": [
    "#Allow for 100% column width to take advantage of my monitor\n",
    "from IPython.core.display import display, HTML\n",
    "display(HTML(\"<style>.container { width:100% !important; }</style>\"))"
   ]
  },
  {
   "cell_type": "code",
   "execution_count": 2,
   "metadata": {},
   "outputs": [],
   "source": [
    "# Dependencies\n",
    "import numpy as np\n",
    "\n",
    "# Python SQL toolkit and Object Relational Mapper\n",
    "import sqlalchemy\n",
    "from sqlalchemy.ext.automap import automap_base\n",
    "from sqlalchemy.orm import Session\n",
    "from sqlalchemy import create_engine, func"
   ]
  },
  {
   "cell_type": "code",
   "execution_count": 3,
   "metadata": {},
   "outputs": [],
   "source": [
    "engine = create_engine(\"sqlite:///hawaii.sqlite\")\n",
    "\n",
    "# reflect an existing database into a new model\n",
    "Base = automap_base()\n",
    "# reflect the tables\n",
    "Base.prepare(engine, reflect=True)\n",
    "\n",
    "# Save references to each table\n",
    "Measurement = Base.classes.measurement\n",
    "Station = Base.classes.station"
   ]
  },
  {
   "cell_type": "code",
   "execution_count": 4,
   "metadata": {},
   "outputs": [
    {
     "data": {
      "text/plain": [
       "{'_sa_instance_state': <sqlalchemy.orm.state.InstanceState at 0x7f34dd5c7400>,\n",
       " 'prcp': 0.08,\n",
       " 'date': '2010-01-01',\n",
       " 'id': 1,\n",
       " 'tobs': 65.0,\n",
       " 'station': 'USC00519397'}"
      ]
     },
     "execution_count": 4,
     "metadata": {},
     "output_type": "execute_result"
    }
   ],
   "source": [
    "# Create our session (link) from Python to the DB\n",
    "session = Session(engine)\n",
    "\n",
    "session.query(Measurement).first().__dict__"
   ]
  },
  {
   "cell_type": "markdown",
   "metadata": {},
   "source": [
    "## D1: Determine the Summary Statistics for June"
   ]
  },
  {
   "cell_type": "code",
   "execution_count": 5,
   "metadata": {},
   "outputs": [],
   "source": [
    "# 1. Import the sqlalchemy extract function.\n",
    "from sqlalchemy import extract\n",
    "\n",
    "# 2. Write a query that filters the Measurement table to retrieve the temperatures for the month of June. \n",
    "results = session.query(Measurement.tobs).filter(extract('month', Measurement.date)==6).all()"
   ]
  },
  {
   "cell_type": "code",
   "execution_count": 6,
   "metadata": {},
   "outputs": [
    {
     "name": "stdout",
     "output_type": "stream",
     "text": [
      "<class 'list'>\n"
     ]
    }
   ],
   "source": [
    "#  3. Convert the June temperatures to a list.\n",
    "#### Results are already a list.\n",
    "print(type(results))\n",
    "#june_temps = list(np.ravel(results))"
   ]
  },
  {
   "cell_type": "code",
   "execution_count": 7,
   "metadata": {},
   "outputs": [],
   "source": [
    "# 4. Create a DataFrame from the list of temperatures for the month of June. \n",
    "import pandas as pd\n",
    "june_df = pd.DataFrame(results, columns=['June Temps'])"
   ]
  },
  {
   "cell_type": "code",
   "execution_count": 8,
   "metadata": {},
   "outputs": [
    {
     "data": {
      "text/html": [
       "<div>\n",
       "<style scoped>\n",
       "    .dataframe tbody tr th:only-of-type {\n",
       "        vertical-align: middle;\n",
       "    }\n",
       "\n",
       "    .dataframe tbody tr th {\n",
       "        vertical-align: top;\n",
       "    }\n",
       "\n",
       "    .dataframe thead th {\n",
       "        text-align: right;\n",
       "    }\n",
       "</style>\n",
       "<table border=\"1\" class=\"dataframe\">\n",
       "  <thead>\n",
       "    <tr style=\"text-align: right;\">\n",
       "      <th></th>\n",
       "      <th>June Temps</th>\n",
       "    </tr>\n",
       "  </thead>\n",
       "  <tbody>\n",
       "    <tr>\n",
       "      <th>count</th>\n",
       "      <td>1700.000000</td>\n",
       "    </tr>\n",
       "    <tr>\n",
       "      <th>mean</th>\n",
       "      <td>74.944118</td>\n",
       "    </tr>\n",
       "    <tr>\n",
       "      <th>std</th>\n",
       "      <td>3.257417</td>\n",
       "    </tr>\n",
       "    <tr>\n",
       "      <th>min</th>\n",
       "      <td>64.000000</td>\n",
       "    </tr>\n",
       "    <tr>\n",
       "      <th>25%</th>\n",
       "      <td>73.000000</td>\n",
       "    </tr>\n",
       "    <tr>\n",
       "      <th>50%</th>\n",
       "      <td>75.000000</td>\n",
       "    </tr>\n",
       "    <tr>\n",
       "      <th>75%</th>\n",
       "      <td>77.000000</td>\n",
       "    </tr>\n",
       "    <tr>\n",
       "      <th>max</th>\n",
       "      <td>85.000000</td>\n",
       "    </tr>\n",
       "  </tbody>\n",
       "</table>\n",
       "</div>"
      ],
      "text/plain": [
       "        June Temps\n",
       "count  1700.000000\n",
       "mean     74.944118\n",
       "std       3.257417\n",
       "min      64.000000\n",
       "25%      73.000000\n",
       "50%      75.000000\n",
       "75%      77.000000\n",
       "max      85.000000"
      ]
     },
     "execution_count": 8,
     "metadata": {},
     "output_type": "execute_result"
    }
   ],
   "source": [
    "# 5. Calculate and print out the summary statistics for the June temperature DataFrame.\n",
    "june_df.describe()"
   ]
  },
  {
   "cell_type": "markdown",
   "metadata": {},
   "source": [
    "## D2: Determine the Summary Statistics for December"
   ]
  },
  {
   "cell_type": "code",
   "execution_count": 9,
   "metadata": {},
   "outputs": [],
   "source": [
    "# 6. Write a query that filters the Measurement table to retrieve the temperatures for the month of December.\n",
    "results = session.query(Measurement.tobs).filter(extract('month', Measurement.date)==12).all()"
   ]
  },
  {
   "cell_type": "code",
   "execution_count": 10,
   "metadata": {},
   "outputs": [
    {
     "name": "stdout",
     "output_type": "stream",
     "text": [
      "<class 'list'>\n"
     ]
    }
   ],
   "source": [
    "# 7. Convert the December temperatures to a list.\n",
    "#### Results are already a list.\n",
    "print(type(results))\n",
    "# december_temps = list(np.ravel(results))"
   ]
  },
  {
   "cell_type": "code",
   "execution_count": 11,
   "metadata": {},
   "outputs": [],
   "source": [
    "# 8. Create a DataFrame from the list of temperatures for the month of December. \n",
    "december_df = pd.DataFrame(results, columns=['December Temps'])"
   ]
  },
  {
   "cell_type": "code",
   "execution_count": 12,
   "metadata": {},
   "outputs": [
    {
     "data": {
      "text/html": [
       "<div>\n",
       "<style scoped>\n",
       "    .dataframe tbody tr th:only-of-type {\n",
       "        vertical-align: middle;\n",
       "    }\n",
       "\n",
       "    .dataframe tbody tr th {\n",
       "        vertical-align: top;\n",
       "    }\n",
       "\n",
       "    .dataframe thead th {\n",
       "        text-align: right;\n",
       "    }\n",
       "</style>\n",
       "<table border=\"1\" class=\"dataframe\">\n",
       "  <thead>\n",
       "    <tr style=\"text-align: right;\">\n",
       "      <th></th>\n",
       "      <th>December Temps</th>\n",
       "    </tr>\n",
       "  </thead>\n",
       "  <tbody>\n",
       "    <tr>\n",
       "      <th>count</th>\n",
       "      <td>1517.000000</td>\n",
       "    </tr>\n",
       "    <tr>\n",
       "      <th>mean</th>\n",
       "      <td>71.041529</td>\n",
       "    </tr>\n",
       "    <tr>\n",
       "      <th>std</th>\n",
       "      <td>3.745920</td>\n",
       "    </tr>\n",
       "    <tr>\n",
       "      <th>min</th>\n",
       "      <td>56.000000</td>\n",
       "    </tr>\n",
       "    <tr>\n",
       "      <th>25%</th>\n",
       "      <td>69.000000</td>\n",
       "    </tr>\n",
       "    <tr>\n",
       "      <th>50%</th>\n",
       "      <td>71.000000</td>\n",
       "    </tr>\n",
       "    <tr>\n",
       "      <th>75%</th>\n",
       "      <td>74.000000</td>\n",
       "    </tr>\n",
       "    <tr>\n",
       "      <th>max</th>\n",
       "      <td>83.000000</td>\n",
       "    </tr>\n",
       "  </tbody>\n",
       "</table>\n",
       "</div>"
      ],
      "text/plain": [
       "       December Temps\n",
       "count     1517.000000\n",
       "mean        71.041529\n",
       "std          3.745920\n",
       "min         56.000000\n",
       "25%         69.000000\n",
       "50%         71.000000\n",
       "75%         74.000000\n",
       "max         83.000000"
      ]
     },
     "execution_count": 12,
     "metadata": {},
     "output_type": "execute_result"
    }
   ],
   "source": [
    "# 9. Calculate and print out the summary statistics for the Decemeber temperature DataFrame.\n",
    "december_df.describe()"
   ]
  },
  {
   "cell_type": "markdown",
   "metadata": {},
   "source": [
    "## D3: Two additional Queries"
   ]
  },
  {
   "cell_type": "code",
   "execution_count": 25,
   "metadata": {},
   "outputs": [
    {
     "name": "stdout",
     "output_type": "stream",
     "text": [
      "SELECT measurement.date AS measurement_date, sum(measurement.prcp) AS sum_1 \n",
      "FROM measurement \n",
      "WHERE CAST(STRFTIME('%m', measurement.date) AS INTEGER) = ? GROUP BY CAST(STRFTIME('%Y', measurement.date) AS INTEGER)\n"
     ]
    }
   ],
   "source": [
    "#Average Temp query grouped by year and station \n",
    "results = session.query(Measurement.station, Measurement.date, (func.sum(Measurement.tobs) / func.count(Measurement.tobs)) ).filter(extract('month', Measurement.date)==12).group_by(extract('year', Measurement.date), Measurement.station).all()\n",
    "june_df = pd.DataFrame(results, columns=['Station', 'Date', 'Tobs'])\n",
    "june_df.describe()\n",
    "june_df\n",
    "print(session.query(Measurement.date, func.sum(Measurement.prcp)).filter(extract('month', Measurement.date)==12).group_by(extract('year', Measurement.date)))"
   ]
  },
  {
   "cell_type": "code",
   "execution_count": 26,
   "metadata": {},
   "outputs": [
    {
     "name": "stdout",
     "output_type": "stream",
     "text": [
      "        Station  Year       Tobs\n",
      "40  USC00519281  2014  66.709677\n",
      "35  USC00511918  2014  68.000000\n",
      "38  USC00516128  2014  68.222222\n",
      "52  USC00516128  2016  68.666667\n",
      "20  USC00516128  2012  68.806452\n",
      "6   USC00519281  2010  69.000000\n",
      "12  USC00516128  2011  69.166667\n",
      "2   USC00514830  2010  69.233333\n",
      "26  USC00511918  2013  69.333333\n",
      "41  USC00519397  2014  69.387097\n",
      "3   USC00516128  2010  69.483871\n",
      "4   USC00517948  2010  69.500000\n",
      "32  USC00519281  2013  69.548387\n",
      "0   USC00511918  2010  70.000000\n",
      "18  USC00513117  2012  70.064516\n",
      "29  USC00516128  2013  70.068966\n",
      "14  USC00519281  2011  70.129032\n",
      "23  USC00519281  2012  70.129032\n",
      "53  USC00517948  2016  70.150000\n",
      "42  USC00519523  2014  70.266667\n",
      "36  USC00513117  2014  70.354839\n",
      "54  USC00519281  2016  70.419355\n",
      "9   USC00511918  2011  70.483871\n",
      "50  USC00513117  2016  70.516129\n",
      "55  USC00519397  2016  70.548387\n",
      "17  USC00511918  2012  70.566667\n",
      "7   USC00519397  2010  70.640000\n",
      "45  USC00516128  2015  70.642857\n",
      "11  USC00514830  2011  70.653846\n",
      "13  USC00517948  2011  70.916667\n",
      "33  USC00519397  2013  70.935484\n",
      "30  USC00517948  2013  70.950000\n",
      "1   USC00513117  2010  70.967742\n",
      "10  USC00513117  2011  71.096774\n",
      "24  USC00519397  2012  71.100000\n",
      "27  USC00513117  2013  71.483871\n",
      "8   USC00519523  2010  71.612903\n",
      "15  USC00519397  2011  71.870968\n",
      "34  USC00519523  2013  72.161290\n",
      "16  USC00519523  2011  72.225806\n",
      "5   USC00518838  2010  72.230769\n",
      "31  USC00518838  2013  72.500000\n",
      "43  USC00513117  2015  73.066667\n",
      "21  USC00517948  2012  73.166667\n",
      "48  USC00519397  2015  73.193548\n",
      "46  USC00517948  2015  73.384615\n",
      "47  USC00519281  2015  73.387097\n",
      "56  USC00519523  2016  73.413793\n",
      "22  USC00518838  2012  73.500000\n",
      "25  USC00519523  2012  73.516129\n",
      "49  USC00519523  2015  74.037037\n",
      "37  USC00514830  2014  74.173913\n",
      "51  USC00514830  2016  74.214286\n",
      "19  USC00514830  2012  74.300000\n",
      "28  USC00514830  2013  74.333333\n",
      "39  USC00517948  2014  74.550000\n",
      "44  USC00514830  2015  76.791667\n"
     ]
    },
    {
     "data": {
      "image/png": "[encoded data removed]",
      "text/plain": [
       "<Figure size 1800x504 with 1 Axes>"
      ]
     },
     "metadata": {
      "needs_background": "light"
     },
     "output_type": "display_data"
    }
   ],
   "source": [
    "#graph results of Precipitation query grouped by year and station \n",
    "%matplotlib inline\n",
    "import matplotlib.pyplot as plt\n",
    "june_df = june_df.sort_values(by=['Tobs', 'Date'],ascending=True)\n",
    "# Convert Date Column to datetime type and consolidate into years\n",
    "june_df['Date'] = pd.to_datetime(june_df['Date'])\n",
    "june_df['Date'] = pd.DatetimeIndex(june_df['Date']).year\n",
    "#Rename Date Column\n",
    "june_df = june_df.rename(columns={\"Date\": \"Year\"})\n",
    "# Begin Plot\n",
    "fig, ax = plt.subplots(figsize=(25,7))\n",
    "ax.set_title('December Mean Temp by Year and Station.')\n",
    "ax.set(xlabel='Year', ylabel='Average Temp')\n",
    "\n",
    "#Define my own color set.\n",
    "color_list=[\n",
    "    '#DCAF1A', '#9B4528', '#594F40', '#7A7670', '#BBAEAA', '#BACEB9',\n",
    "    '#C8AA78', '#51373A', '#636244', '#C74958']\n",
    "\n",
    "#Set custom color cycler\n",
    "plt.rcParams['axes.prop_cycle'] = plt.cycler(color=color_list)\n",
    "\n",
    "#turn off grid lines for x axis\n",
    "#ax.get_xaxis().set_visible(False)\n",
    "\n",
    "# use unstack()\n",
    "june_df.groupby(['Year','Station']).mean()['Tobs'].unstack().plot(kind='bar', stacked=False, ax=ax).legend(bbox_to_anchor=(1, 0.375))\n",
    "\n",
    "print(june_df)"
   ]
  },
  {
   "cell_type": "code",
   "execution_count": 15,
   "metadata": {},
   "outputs": [
    {
     "data": {
      "text/html": [
       "<div>\n",
       "<style scoped>\n",
       "    .dataframe tbody tr th:only-of-type {\n",
       "        vertical-align: middle;\n",
       "    }\n",
       "\n",
       "    .dataframe tbody tr th {\n",
       "        vertical-align: top;\n",
       "    }\n",
       "\n",
       "    .dataframe thead th {\n",
       "        text-align: right;\n",
       "    }\n",
       "</style>\n",
       "<table border=\"1\" class=\"dataframe\">\n",
       "  <thead>\n",
       "    <tr style=\"text-align: right;\">\n",
       "      <th></th>\n",
       "      <th>June Precipitation</th>\n",
       "    </tr>\n",
       "  </thead>\n",
       "  <tbody>\n",
       "    <tr>\n",
       "      <th>count</th>\n",
       "      <td>1574.000000</td>\n",
       "    </tr>\n",
       "    <tr>\n",
       "      <th>mean</th>\n",
       "      <td>0.136360</td>\n",
       "    </tr>\n",
       "    <tr>\n",
       "      <th>std</th>\n",
       "      <td>0.335731</td>\n",
       "    </tr>\n",
       "    <tr>\n",
       "      <th>min</th>\n",
       "      <td>0.000000</td>\n",
       "    </tr>\n",
       "    <tr>\n",
       "      <th>25%</th>\n",
       "      <td>0.000000</td>\n",
       "    </tr>\n",
       "    <tr>\n",
       "      <th>50%</th>\n",
       "      <td>0.020000</td>\n",
       "    </tr>\n",
       "    <tr>\n",
       "      <th>75%</th>\n",
       "      <td>0.120000</td>\n",
       "    </tr>\n",
       "    <tr>\n",
       "      <th>max</th>\n",
       "      <td>4.430000</td>\n",
       "    </tr>\n",
       "  </tbody>\n",
       "</table>\n",
       "</div>"
      ],
      "text/plain": [
       "       June Precipitation\n",
       "count         1574.000000\n",
       "mean             0.136360\n",
       "std              0.335731\n",
       "min              0.000000\n",
       "25%              0.000000\n",
       "50%              0.020000\n",
       "75%              0.120000\n",
       "max              4.430000"
      ]
     },
     "execution_count": 15,
     "metadata": {},
     "output_type": "execute_result"
    }
   ],
   "source": [
    "#Additional Queries precipitation\n",
    "results = session.query(Measurement.prcp).filter(extract('month', Measurement.date)==6).all()\n",
    "june_df = pd.DataFrame(results, columns=['June Precipitation'])\n",
    "june_df.describe()"
   ]
  },
  {
   "cell_type": "code",
   "execution_count": 16,
   "metadata": {},
   "outputs": [
    {
     "name": "stdout",
     "output_type": "stream",
     "text": [
      "SELECT measurement.date AS measurement_date, sum(measurement.prcp) AS sum_1 \n",
      "FROM measurement \n",
      "WHERE CAST(STRFTIME('%m', measurement.date) AS INTEGER) = ? GROUP BY CAST(STRFTIME('%Y', measurement.date) AS INTEGER)\n"
     ]
    }
   ],
   "source": [
    "#Precipitation query grouped by year and station \n",
    "results = session.query(Measurement.station, Measurement.date, func.sum(Measurement.prcp)).filter(extract('month', Measurement.date)==6).group_by(extract('year', Measurement.date), Measurement.station).all()\n",
    "june_df = pd.DataFrame(results, columns=['Station', 'Date', 'Precipitation'])\n",
    "june_df.describe()\n",
    "print(session.query(Measurement.date, func.sum(Measurement.prcp)).filter(extract('month', Measurement.date)==6).group_by(extract('year', Measurement.date)))"
   ]
  },
  {
   "cell_type": "code",
   "execution_count": 17,
   "metadata": {},
   "outputs": [
    {
     "name": "stdout",
     "output_type": "stream",
     "text": [
      "        Station  Year  Precipitation\n",
      "0   USC00511918  2010           0.30\n",
      "1   USC00513117  2010           0.86\n",
      "2   USC00514830  2010           0.73\n",
      "3   USC00516128  2010           4.40\n",
      "4   USC00517948  2010           0.33\n",
      "5   USC00518838  2010           1.22\n",
      "6   USC00519281  2010           1.59\n",
      "7   USC00519397  2010           0.03\n",
      "8   USC00519523  2010           0.34\n",
      "9   USC00511918  2011           0.93\n",
      "10  USC00513117  2011          11.00\n",
      "11  USC00514830  2011           7.84\n",
      "12  USC00516128  2011          18.99\n",
      "13  USC00517948  2011           2.41\n",
      "14  USC00518838  2011           1.21\n",
      "15  USC00519281  2011           4.42\n",
      "16  USC00519397  2011           1.76\n",
      "17  USC00519523  2011           2.35\n",
      "18  USC00511918  2012           0.21\n",
      "19  USC00513117  2012           1.63\n",
      "20  USC00514830  2012           0.69\n",
      "21  USC00516128  2012          11.06\n",
      "22  USC00517948  2012           0.36\n",
      "23  USC00518838  2012           0.03\n",
      "24  USC00519281  2012           2.92\n",
      "25  USC00519397  2012           0.28\n",
      "26  USC00519523  2012           1.65\n",
      "27  USC00511918  2013           0.28\n",
      "28  USC00513117  2013           2.22\n",
      "29  USC00514830  2013           0.51\n",
      "30  USC00516128  2013          18.61\n",
      "31  USC00517948  2013           0.23\n",
      "32  USC00519281  2013           4.94\n",
      "33  USC00519397  2013           1.04\n",
      "34  USC00519523  2013           1.73\n",
      "35  USC00511918  2014           0.46\n",
      "36  USC00513117  2014           1.99\n",
      "37  USC00514830  2014           1.64\n",
      "38  USC00516128  2014          13.21\n",
      "39  USC00517948  2014           0.35\n",
      "40  USC00519281  2014           4.50\n",
      "41  USC00519397  2014           1.36\n",
      "42  USC00519523  2014           1.24\n",
      "43  USC00511918  2015           0.23\n",
      "44  USC00513117  2015           1.80\n",
      "45  USC00514830  2015           2.26\n",
      "46  USC00516128  2015          13.69\n",
      "47  USC00517948  2015           0.18\n",
      "48  USC00519281  2015           4.55\n",
      "49  USC00519397  2015           0.17\n",
      "50  USC00519523  2015           0.65\n",
      "51  USC00513117  2016           5.19\n",
      "52  USC00514830  2016           2.80\n",
      "53  USC00516128  2016          16.83\n",
      "54  USC00517948  2016           0.60\n",
      "55  USC00519281  2016           8.58\n",
      "56  USC00519397  2016           0.27\n",
      "57  USC00519523  2016           2.46\n",
      "58  USC00513117  2017           2.98\n",
      "59  USC00514830  2017           2.60\n",
      "60  USC00516128  2017           9.30\n",
      "61  USC00517948  2017           0.12\n",
      "62  USC00519281  2017           4.26\n",
      "63  USC00519397  2017           0.37\n",
      "64  USC00519523  2017           0.89\n"
     ]
    },
    {
     "data": {
      "image/png": "[encoded data removed]",
      "text/plain": [
       "<Figure size 1440x504 with 1 Axes>"
      ]
     },
     "metadata": {
      "needs_background": "light"
     },
     "output_type": "display_data"
    }
   ],
   "source": [
    "#graph results of Precipitation query grouped by year and station \n",
    "%matplotlib inline\n",
    "import matplotlib.pyplot as plt\n",
    "june_df = june_df.sort_values(by=['Station', 'Date'],ascending=True)\n",
    "# Convert Date Column to datetime type and consolidate into years\n",
    "june_df['Date'] = pd.to_datetime(june_df['Date'])\n",
    "june_df['Date'] = pd.DatetimeIndex(june_df['Date']).year\n",
    "#Rename Date Column\n",
    "june_df = june_df.rename(columns={\"Date\": \"Year\"})\n",
    "# Begin Plot\n",
    "fig, ax = plt.subplots(figsize=(20,7))\n",
    "ax.set_title('Total June Precipitation by Year and Station.')\n",
    "ax.set(xlabel='Year', ylabel='Precipitation')\n",
    "#Define my own color set.\n",
    "color_list=[\n",
    "    '#DCAF1A', '#9B4528', '#594F40', '#7A7670', '#BBAEAA', '#BACEB9',\n",
    "    '#C8AA78', '#51373A', '#636244', '#C74958']\n",
    "\n",
    "#Set custom color cycler\n",
    "plt.rcParams['axes.prop_cycle'] = plt.cycler(color=color_list)\n",
    "#turn off grid lines for x axis\n",
    "#ax.get_xaxis().set_visible(False)\n",
    "\n",
    "# use unstack()\n",
    "june_df.groupby(['Year','Station']).sum()['Precipitation'].unstack().plot(kind='bar', stacked=True, ax=ax)\n",
    "\n",
    "june_df.sort_index(inplace=True)\n",
    "print(june_df.to_string())"
   ]
  },
  {
   "cell_type": "code",
   "execution_count": 18,
   "metadata": {},
   "outputs": [
    {
     "data": {
      "text/html": [
       "<div>\n",
       "<style scoped>\n",
       "    .dataframe tbody tr th:only-of-type {\n",
       "        vertical-align: middle;\n",
       "    }\n",
       "\n",
       "    .dataframe tbody tr th {\n",
       "        vertical-align: top;\n",
       "    }\n",
       "\n",
       "    .dataframe thead th {\n",
       "        text-align: right;\n",
       "    }\n",
       "</style>\n",
       "<table border=\"1\" class=\"dataframe\">\n",
       "  <thead>\n",
       "    <tr style=\"text-align: right;\">\n",
       "      <th></th>\n",
       "      <th>December Precipitation</th>\n",
       "    </tr>\n",
       "  </thead>\n",
       "  <tbody>\n",
       "    <tr>\n",
       "      <th>count</th>\n",
       "      <td>1405.000000</td>\n",
       "    </tr>\n",
       "    <tr>\n",
       "      <th>mean</th>\n",
       "      <td>0.216819</td>\n",
       "    </tr>\n",
       "    <tr>\n",
       "      <th>std</th>\n",
       "      <td>0.541399</td>\n",
       "    </tr>\n",
       "    <tr>\n",
       "      <th>min</th>\n",
       "      <td>0.000000</td>\n",
       "    </tr>\n",
       "    <tr>\n",
       "      <th>25%</th>\n",
       "      <td>0.000000</td>\n",
       "    </tr>\n",
       "    <tr>\n",
       "      <th>50%</th>\n",
       "      <td>0.030000</td>\n",
       "    </tr>\n",
       "    <tr>\n",
       "      <th>75%</th>\n",
       "      <td>0.150000</td>\n",
       "    </tr>\n",
       "    <tr>\n",
       "      <th>max</th>\n",
       "      <td>6.420000</td>\n",
       "    </tr>\n",
       "  </tbody>\n",
       "</table>\n",
       "</div>"
      ],
      "text/plain": [
       "       December Precipitation\n",
       "count             1405.000000\n",
       "mean                 0.216819\n",
       "std                  0.541399\n",
       "min                  0.000000\n",
       "25%                  0.000000\n",
       "50%                  0.030000\n",
       "75%                  0.150000\n",
       "max                  6.420000"
      ]
     },
     "execution_count": 18,
     "metadata": {},
     "output_type": "execute_result"
    }
   ],
   "source": [
    "#Additional Queries precipitation\n",
    "results = session.query(Measurement.prcp).filter(extract('month', Measurement.date)==12).all()\n",
    "december_df = pd.DataFrame(results, columns=['December Precipitation'])\n",
    "december_df.describe()"
   ]
  },
  {
   "cell_type": "code",
   "execution_count": 27,
   "metadata": {},
   "outputs": [
    {
     "name": "stdout",
     "output_type": "stream",
     "text": [
      "SELECT measurement.date AS measurement_date, sum(measurement.prcp) AS sum_1 \n",
      "FROM measurement \n",
      "WHERE CAST(STRFTIME('%m', measurement.date) AS INTEGER) = ? GROUP BY CAST(STRFTIME('%Y', measurement.date) AS INTEGER)\n"
     ]
    }
   ],
   "source": [
    "results = session.query(Measurement.station, Measurement.date, func.sum(Measurement.prcp)).filter(extract('month', Measurement.date)==12).group_by(extract('year', Measurement.date), Measurement.station).all()\n",
    "december_df = pd.DataFrame(results, columns=['Station', 'Date', 'Precipitation'])\n",
    "december_df.describe()\n",
    "print(session.query(Measurement.date, func.sum(Measurement.prcp)).filter(extract('month', Measurement.date)==12).group_by(extract('year', Measurement.date)))"
   ]
  },
  {
   "cell_type": "code",
   "execution_count": 28,
   "metadata": {},
   "outputs": [
    {
     "name": "stdout",
     "output_type": "stream",
     "text": [
      "        Station  Year  Precipitation\n",
      "0   USC00511918  2010          14.82\n",
      "1   USC00513117  2010          18.03\n",
      "2   USC00514830  2010          10.07\n",
      "3   USC00516128  2010          16.88\n",
      "4   USC00517948  2010           2.73\n",
      "5   USC00518838  2010           6.86\n",
      "6   USC00519281  2010          18.56\n",
      "7   USC00519397  2010           4.54\n",
      "8   USC00519523  2010          13.10\n",
      "9   USC00511918  2011           0.67\n",
      "10  USC00513117  2011           4.24\n",
      "11  USC00514830  2011           2.09\n",
      "12  USC00516128  2011          21.03\n",
      "13  USC00517948  2011           3.96\n",
      "14  USC00519281  2011           5.97\n",
      "15  USC00519397  2011           2.22\n",
      "16  USC00519523  2011           3.16\n",
      "17  USC00511918  2012           0.27\n",
      "18  USC00513117  2012           1.75\n",
      "19  USC00514830  2012           1.09\n",
      "20  USC00516128  2012           8.63\n",
      "21  USC00517948  2012           0.13\n",
      "22  USC00518838  2012            NaN\n",
      "23  USC00519281  2012           3.29\n",
      "24  USC00519397  2012           0.78\n",
      "25  USC00519523  2012           2.16\n",
      "26  USC00511918  2013           3.98\n",
      "27  USC00513117  2013           4.86\n",
      "28  USC00514830  2013           1.39\n",
      "29  USC00516128  2013          10.48\n",
      "30  USC00517948  2013           0.04\n",
      "31  USC00518838  2013           0.16\n",
      "32  USC00519281  2013           7.19\n",
      "33  USC00519397  2013           3.53\n",
      "34  USC00519523  2013           4.37\n",
      "35  USC00511918  2014           1.12\n",
      "36  USC00513117  2014           5.14\n",
      "37  USC00514830  2014           3.29\n",
      "38  USC00516128  2014          14.78\n",
      "39  USC00517948  2014           0.80\n",
      "40  USC00519281  2014           6.60\n",
      "41  USC00519397  2014           1.43\n",
      "42  USC00519523  2014           5.47\n",
      "43  USC00513117  2015           5.49\n",
      "44  USC00514830  2015           1.53\n",
      "45  USC00516128  2015          11.17\n",
      "46  USC00517948  2015           0.39\n",
      "47  USC00519281  2015           5.03\n",
      "48  USC00519397  2015           1.34\n",
      "49  USC00519523  2015           2.51\n",
      "50  USC00513117  2016           4.39\n",
      "51  USC00514830  2016           3.32\n",
      "52  USC00516128  2016          16.91\n",
      "53  USC00517948  2016           0.35\n",
      "54  USC00519281  2016           6.51\n",
      "55  USC00519397  2016           1.75\n",
      "56  USC00519523  2016           2.28\n"
     ]
    },
    {
     "data": {
      "image/png": "[encoded data removed]",
      "text/plain": [
       "<Figure size 1440x504 with 1 Axes>"
      ]
     },
     "metadata": {
      "needs_background": "light"
     },
     "output_type": "display_data"
    }
   ],
   "source": [
    "#graph results of Precipitation query grouped by year and station \n",
    "%matplotlib inline\n",
    "import matplotlib.pyplot as plt\n",
    "december_df = december_df.sort_values(by=['Station', 'Date'],ascending=True)\n",
    "# Convert Date Column to datetime type and consolidate into years\n",
    "december_df['Date'] = pd.to_datetime(december_df['Date'])\n",
    "december_df['Date'] = pd.DatetimeIndex(december_df['Date']).year\n",
    "#Rename Date Column\n",
    "december_df = december_df.rename(columns={\"Date\": \"Year\"})\n",
    "# Begin Plot\n",
    "fig, ax = plt.subplots(figsize=(20,7))\n",
    "ax.set_title('Total December Precipitation by Year and Station.')\n",
    "ax.set(xlabel='Year', ylabel='Precipitation')\n",
    "#Define my own color set.\n",
    "color_list=[\n",
    "    '#DCAF1A', '#9B4528', '#594F40', '#7A7670', '#BBAEAA', '#BACEB9',\n",
    "    '#C8AA78', '#51373A', '#636244', '#C74958']\n",
    "\n",
    "#Set custom color cycler\n",
    "plt.rcParams['axes.prop_cycle'] = plt.cycler(color=color_list)\n",
    "#turn off grid lines for x axis\n",
    "#ax.get_xaxis().set_visible(False)\n",
    "\n",
    "# use unstack()\n",
    "december_df.groupby(['Year','Station']).sum()['Precipitation'].unstack().plot(kind='bar', stacked=True, ax=ax)\n",
    "\n",
    "december_df.sort_index(inplace=True)\n",
    "print(december_df)"
   ]
  },
  {
   "cell_type": "code",
   "execution_count": 21,
   "metadata": {},
   "outputs": [
    {
     "name": "stdout",
     "output_type": "stream",
     "text": [
      "       Station  Count\n",
      "0  USC00511918    165\n",
      "1  USC00513117    236\n",
      "2  USC00514830    186\n",
      "3  USC00516128    223\n",
      "4  USC00517948    148\n",
      "5  USC00518838     38\n",
      "6  USC00519281    236\n",
      "7  USC00519397    236\n",
      "8  USC00519523    232\n",
      "========================\n",
      "Total Station Count 1700\n"
     ]
    }
   ],
   "source": [
    "results = session.query(Measurement.station, func.count(Measurement.station)).filter(extract('month', Measurement.date)==6).group_by(Measurement.station).order_by(Measurement.station).all()\n",
    "june_df = pd.DataFrame(results, columns=['Station', 'Count' ])\n",
    "print(june_df)\n",
    "print(f\"========================\")\n",
    "print(f\"Total Station Count {june_df.Count.sum()}\")"
   ]
  },
  {
   "cell_type": "code",
   "execution_count": 22,
   "metadata": {},
   "outputs": [
    {
     "name": "stdout",
     "output_type": "stream",
     "text": [
      "       Station  Count\n",
      "0  USC00511918    152\n",
      "1  USC00513117    216\n",
      "2  USC00514830    178\n",
      "3  USC00516128    206\n",
      "4  USC00517948    109\n",
      "5  USC00518838     19\n",
      "6  USC00519281    217\n",
      "7  USC00519397    210\n",
      "8  USC00519523    210\n",
      "========================\n",
      "Total Station Count 1517\n"
     ]
    }
   ],
   "source": [
    "results = session.query(Measurement.station, func.count(Measurement.station)).filter(extract('month', Measurement.date)==12).group_by(Measurement.station).order_by(Measurement.station).all()\n",
    "december_df = pd.DataFrame(results, columns=['Station', 'Count' ])\n",
    "print(december_df)\n",
    "print(\"========================\")\n",
    "print(f\"Total Station Count {december_df.Count.sum()}\")"
   ]
  },
  {
   "cell_type": "code",
   "execution_count": null,
   "metadata": {},
   "outputs": [],
   "source": []
  },
  {
   "cell_type": "code",
   "execution_count": null,
   "metadata": {},
   "outputs": [],
   "source": []
  },
  {
   "cell_type": "code",
   "execution_count": null,
   "metadata": {},
   "outputs": [],
   "source": []
  }
 ],
 "metadata": {
  "kernelspec": {
   "display_name": "PythonData",
   "language": "python",
   "name": "pythondata"
  },
  "language_info": {
   "codemirror_mode": {
    "name": "ipython",
    "version": 3
   },
   "file_extension": ".py",
   "mimetype": "text/x-python",
   "name": "python",
   "nbconvert_exporter": "python",
   "pygments_lexer": "ipython3",
   "version": "3.8.3"
  }
 },
 "nbformat": 4,
 "nbformat_minor": 2
}
